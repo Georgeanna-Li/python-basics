{
 "cells": [
  {
   "cell_type": "markdown",
   "metadata": {},
   "source": [
    "# Pulp\n",
    "\n",
    "Using pulp to solve linear programming questions.\n",
    "\n",
    "[The Beer Distribution Problem for the PuLP Modeller](https://coin-or.github.io/pulp/CaseStudies/a_transportation_problem.html)\n",
    "\n",
    "Authors: Antony Phillips, Dr Stuart Mitchell  2007"
   ]
  },
  {
   "cell_type": "code",
   "execution_count": 1,
   "metadata": {},
   "outputs": [],
   "source": [
    "from pulp import *"
   ]
  },
  {
   "cell_type": "markdown",
   "metadata": {},
   "source": [
    "The start of the formulation is a simple definition of the nodes and their limits/capacities. The node names are put into lists, and their associated capacities are put into dictionaries with the node names as the reference keys:"
   ]
  },
  {
   "cell_type": "code",
   "execution_count": 2,
   "metadata": {},
   "outputs": [],
   "source": [
    "# Creates a list of all the supply nodes\n",
    "Warehouses = [\"A\", \"B\"]\n",
    "\n",
    "# Creates a dictionary for the number of units of supply for each supply node\n",
    "supply = {\"A\": 1000, \"B\": 4000}\n",
    "\n",
    "# Creates a list of all demand nodes\n",
    "Bars = [\"1\", \"2\", \"3\", \"4\", \"5\"]\n",
    "\n",
    "# Creates a dictionary for the number of units of demand for each demand node\n",
    "demand = {\n",
    "    \"1\": 500,\n",
    "    \"2\": 900,\n",
    "    \"3\": 1800,\n",
    "    \"4\": 200,\n",
    "    \"5\": 700,\n",
    "}"
   ]
  },
  {
   "cell_type": "markdown",
   "metadata": {},
   "source": [
    "The cost data is then inputted into a list, with two sub lists: the first containing the costs of shipping from Warehouse A, and the second containing the costs of shipping from Warehouse B."
   ]
  },
  {
   "cell_type": "markdown",
   "metadata": {},
   "source": [
    "The Warehouses and Bars lists (Supply and Demand nodes) are added to make a large list (of all nodes) and inputted into PuLPs makeDict function. The second parameter is the costs list as was previously created, and the last parameter sets the default value for an arc cost.\n",
    "\n",
    "Once the cost dictionary is created, if costs[“A”][“1”] is called, it will return the cost of transporting from warehouse A to bar 1, 2. If costs[“C”][“2”] is called, it will return 0, since this is the defined default.\n"
   ]
  },
  {
   "cell_type": "code",
   "execution_count": 3,
   "metadata": {},
   "outputs": [],
   "source": [
    "# Creates a list of costs of each transportation path\n",
    "costs = [  # Bars\n",
    "    # 1 2 3 4 5\n",
    "    [2, 4, 5, 2, 1],  # A   Warehouses\n",
    "    [3, 1, 3, 2, 3],  # B\n",
    "]\n",
    "\n",
    "# The cost data is made into a dictionary\n",
    "costs = makeDict([Warehouses, Bars], costs, 0)"
   ]
  },
  {
   "cell_type": "markdown",
   "metadata": {},
   "source": [
    "The prob variable is created using the *LpProblem* function, with the usual input parameters."
   ]
  },
  {
   "cell_type": "code",
   "execution_count": 5,
   "metadata": {},
   "outputs": [],
   "source": [
    "# Creates the 'prob' variable to contain the problem data\n",
    "prob = LpProblem(\"Beer_Distribution_Problem\", LpMinimize)"
   ]
  },
  {
   "cell_type": "markdown",
   "metadata": {},
   "source": [
    "A list of tuples is created containing all the arcs."
   ]
  },
  {
   "cell_type": "code",
   "execution_count": 6,
   "metadata": {},
   "outputs": [],
   "source": [
    "# Creates a list of tuples containing all the possible routes for transport\n",
    "Routes = [(w, b) for w in Warehouses for b in Bars]"
   ]
  },
  {
   "cell_type": "markdown",
   "metadata": {},
   "source": [
    "A dictionary called vars is created which contains the LP variables.\n",
    "\n",
    "The reference keys to the dictionary are the warehouse name, then the bar name([“A”][“2”]) , and the data is Route_Tuple. (e.g. [“A”][“2”]: Route_A_2). The lower limit of zero is set, the upper limit of None is set, and the variables are defined to be Integers."
   ]
  },
  {
   "cell_type": "code",
   "execution_count": 7,
   "metadata": {},
   "outputs": [],
   "source": [
    "# A dictionary called 'Vars' is created to contain the referenced variables(the routes)\n",
    "vars = LpVariable.dicts(\"Route\", (Warehouses, Bars), 0, None, LpInteger)"
   ]
  },
  {
   "cell_type": "markdown",
   "metadata": {},
   "source": [
    "The objective function is added to the variable prob using a list comprehension. Since vars and costs are now dictionaries (with further internal dictionaries), they can be used as if they were tables, as for (w,b) in Routes will cycle through all the combinations/arcs. Note that i and j could have been used, but w and b are more meaningful."
   ]
  },
  {
   "cell_type": "code",
   "execution_count": 8,
   "metadata": {},
   "outputs": [],
   "source": [
    "# The objective function is added to 'prob' first\n",
    "prob += (\n",
    "    lpSum([vars[w][b] * costs[w][b] for (w, b) in Routes]),\n",
    "    \"Sum_of_Transporting_Costs\",\n",
    ")"
   ]
  },
  {
   "cell_type": "markdown",
   "metadata": {},
   "source": [
    "The supply and demand constraints are added using a normal for loop and a list comprehension.\n",
    "\n",
    "Supply Constraints: For each warehouse in turn, the values of the decision variables (number of beer cases on arc) to each of the bars is summed, and then constrained to being less than or equal to the supply max for that warehouse. \n",
    "\n",
    "Demand Constraints: For each bar in turn, the values of the decision variables (number on arc) from each of the warehouses is summed, and then constrained to being greater than or equal to the demand minimum."
   ]
  },
  {
   "cell_type": "code",
   "execution_count": 9,
   "metadata": {},
   "outputs": [],
   "source": [
    "# The supply maximum constraints are added to prob for each supply node (warehouse)\n",
    "for w in Warehouses:\n",
    "    prob += (\n",
    "        lpSum([vars[w][b] for b in Bars]) <= supply[w],\n",
    "        \"Sum_of_Products_out_of_Warehouse_%s\" % w,\n",
    "    )\n",
    "\n",
    "# The demand minimum constraints are added to prob for each demand node (bar)\n",
    "for b in Bars:\n",
    "    prob += (\n",
    "        lpSum([vars[w][b] for w in Warehouses]) >= demand[b],\n",
    "        \"Sum_of_Products_into_Bar%s\" % b,\n",
    "    )"
   ]
  },
  {
   "cell_type": "code",
   "execution_count": 10,
   "metadata": {},
   "outputs": [
    {
     "data": {
      "text/plain": [
       "Beer_Distribution_Problem:\n",
       "MINIMIZE\n",
       "2*Route_A_1 + 4*Route_A_2 + 5*Route_A_3 + 2*Route_A_4 + 1*Route_A_5 + 3*Route_B_1 + 1*Route_B_2 + 3*Route_B_3 + 2*Route_B_4 + 3*Route_B_5 + 0\n",
       "SUBJECT TO\n",
       "Sum_of_Products_out_of_Warehouse_A: Route_A_1 + Route_A_2 + Route_A_3\n",
       " + Route_A_4 + Route_A_5 <= 1000\n",
       "\n",
       "Sum_of_Products_out_of_Warehouse_B: Route_B_1 + Route_B_2 + Route_B_3\n",
       " + Route_B_4 + Route_B_5 <= 4000\n",
       "\n",
       "Sum_of_Products_into_Bar1: Route_A_1 + Route_B_1 >= 500\n",
       "\n",
       "Sum_of_Products_into_Bar2: Route_A_2 + Route_B_2 >= 900\n",
       "\n",
       "Sum_of_Products_into_Bar3: Route_A_3 + Route_B_3 >= 1800\n",
       "\n",
       "Sum_of_Products_into_Bar4: Route_A_4 + Route_B_4 >= 200\n",
       "\n",
       "Sum_of_Products_into_Bar5: Route_A_5 + Route_B_5 >= 700\n",
       "\n",
       "VARIABLES\n",
       "0 <= Route_A_1 Integer\n",
       "0 <= Route_A_2 Integer\n",
       "0 <= Route_A_3 Integer\n",
       "0 <= Route_A_4 Integer\n",
       "0 <= Route_A_5 Integer\n",
       "0 <= Route_B_1 Integer\n",
       "0 <= Route_B_2 Integer\n",
       "0 <= Route_B_3 Integer\n",
       "0 <= Route_B_4 Integer\n",
       "0 <= Route_B_5 Integer"
      ]
     },
     "execution_count": 10,
     "metadata": {},
     "output_type": "execute_result"
    }
   ],
   "source": [
    "prob"
   ]
  },
  {
   "cell_type": "code",
   "execution_count": 11,
   "metadata": {},
   "outputs": [],
   "source": [
    "status = prob.solve()"
   ]
  },
  {
   "cell_type": "code",
   "execution_count": 12,
   "metadata": {},
   "outputs": [
    {
     "name": "stdout",
     "output_type": "stream",
     "text": [
      "status: 1, Optimal\n"
     ]
    }
   ],
   "source": [
    "print(f\"status: {prob.status}, {LpStatus[prob.status]}\")"
   ]
  },
  {
   "cell_type": "code",
   "execution_count": 14,
   "metadata": {},
   "outputs": [
    {
     "name": "stdout",
     "output_type": "stream",
     "text": [
      "objective: 8600.0\n"
     ]
    }
   ],
   "source": [
    "print(f\"objective: {prob.objective.value()}\")"
   ]
  },
  {
   "cell_type": "code",
   "execution_count": 15,
   "metadata": {},
   "outputs": [
    {
     "name": "stdout",
     "output_type": "stream",
     "text": [
      "Route_A_1: 300.0\n",
      "Route_A_2: 0.0\n",
      "Route_A_3: 0.0\n",
      "Route_A_4: 0.0\n",
      "Route_A_5: 700.0\n",
      "Route_B_1: 200.0\n",
      "Route_B_2: 900.0\n",
      "Route_B_3: 1800.0\n",
      "Route_B_4: 200.0\n",
      "Route_B_5: 0.0\n"
     ]
    }
   ],
   "source": [
    "for var in prob.variables():\n",
    "    print(f\"{var.name}: {var.value()}\")"
   ]
  },
  {
   "cell_type": "code",
   "execution_count": 16,
   "metadata": {},
   "outputs": [
    {
     "name": "stdout",
     "output_type": "stream",
     "text": [
      "Sum_of_Products_out_of_Warehouse_A: 0.0\n",
      "Sum_of_Products_out_of_Warehouse_B: -900.0\n",
      "Sum_of_Products_into_Bar1: 0.0\n",
      "Sum_of_Products_into_Bar2: 0.0\n",
      "Sum_of_Products_into_Bar3: 0.0\n",
      "Sum_of_Products_into_Bar4: 0.0\n",
      "Sum_of_Products_into_Bar5: 0.0\n"
     ]
    }
   ],
   "source": [
    "for name, constraint in prob.constraints.items():\n",
    "    print(f\"{name}: {constraint.value()}\")"
   ]
  },
  {
   "cell_type": "markdown",
   "metadata": {},
   "source": [
    "Also, refer to this [website](https://realpython.com/linear-programming-python/) for more information on how to use pulp."
   ]
  },
  {
   "cell_type": "code",
   "execution_count": null,
   "metadata": {},
   "outputs": [],
   "source": []
  }
 ],
 "metadata": {
  "interpreter": {
   "hash": "3d597f4c481aa0f25dceb95d2a0067e73c0966dcbd003d741d821a7208527ecf"
  },
  "kernelspec": {
   "display_name": "Python 3.9.5 ('base')",
   "language": "python",
   "name": "python3"
  },
  "language_info": {
   "codemirror_mode": {
    "name": "ipython",
    "version": 3
   },
   "file_extension": ".py",
   "mimetype": "text/x-python",
   "name": "python",
   "nbconvert_exporter": "python",
   "pygments_lexer": "ipython3",
   "version": "3.9.5"
  },
  "orig_nbformat": 4
 },
 "nbformat": 4,
 "nbformat_minor": 2
}
