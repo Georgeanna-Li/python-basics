{
 "nbformat": 4,
 "nbformat_minor": 2,
 "metadata": {
  "language_info": {
   "name": "python",
   "codemirror_mode": {
    "name": "ipython",
    "version": 3
   },
   "version": "3.7.6-final"
  },
  "orig_nbformat": 2,
  "file_extension": ".py",
  "mimetype": "text/x-python",
  "name": "python",
  "npconvert_exporter": "python",
  "pygments_lexer": "ipython3",
  "version": 3,
  "kernelspec": {
   "name": "python37664bit02231b8edda140c5ad32b703ba66e0b2",
   "display_name": "Python 3.7.6 64-bit"
  }
 },
 "cells": [
  {
   "cell_type": "code",
   "execution_count": 7,
   "metadata": {},
   "outputs": [
    {
     "name": "stdout",
     "output_type": "stream",
     "text": "dlrow olleh\ndlrow olleh\n"
    }
   ],
   "source": [
    "# 1.字符串翻转\n",
    "# 使用切片\n",
    "str1 = \"hello world\"\n",
    "print(str1[::-1])  \n",
    "# 使用functools\n",
    "from functools import reduce\n",
    "print(reduce(lambda x,y: y+x, str1))"
   ]
  },
  {
   "cell_type": "code",
   "execution_count": 8,
   "metadata": {},
   "outputs": [
    {
     "name": "stdout",
     "output_type": "stream",
     "text": "no\nyes\n"
    }
   ],
   "source": [
    "# 2. 判断字符串是否为回文\n",
    "str2 = \"abcde\"\n",
    "str3 = \"abcba\"\n",
    "def fun(string):\n",
    "    if string[::-1]==string:\n",
    "        print(\"yes\")\n",
    "    else:\n",
    "        print(\"no\")\n",
    "fun(str2)\n",
    "fun(str3)"
   ]
  },
  {
   "cell_type": "code",
   "execution_count": 9,
   "metadata": {},
   "outputs": [
    {
     "name": "stdout",
     "output_type": "stream",
     "text": "I Love You\nI LOVE YOU\nI love you\n"
    }
   ],
   "source": [
    "# 3. 单词大小写\n",
    "str4 = \"i love you\"\n",
    "print(str4.title())    #每个单词首字母大写\n",
    "print(str4.upper())      #每个字母大写\n",
    "print(str4.capitalize())      #字符串首字母大写"
   ]
  },
  {
   "cell_type": "code",
   "execution_count": 11,
   "metadata": {},
   "outputs": [
    {
     "name": "stdout",
     "output_type": "stream",
     "text": "['i', 'love', 'you']\n['i', 'love', 'you']\ni love you\n"
    },
    {
     "data": {
      "text/plain": "str"
     },
     "execution_count": 11,
     "metadata": {},
     "output_type": "execute_result"
    }
   ],
   "source": [
    "# 4. 字符串的拆分\n",
    "str5 = \"i/love/you\"\n",
    "str6 = \"  i love you   \"\n",
    "print(str4.split())    #默认按空格拆分，返回列表\n",
    "print(str5.split('/'))\n",
    "print(str6.strip())   #默认去除字符串首尾空格，返回字符串\n",
    "type(str6.strip())"
   ]
  },
  {
   "cell_type": "code",
   "execution_count": 16,
   "metadata": {},
   "outputs": [
    {
     "name": "stdout",
     "output_type": "stream",
     "text": "i love you\n['i', 'love', 'you']\ni love you\n"
    }
   ],
   "source": [
    "# 5. 列表中字符串合并\n",
    "list1 =[\"i\", \"love\", \"you\"]\n",
    "print(' '.join(list1))\n",
    "\n",
    "import re\n",
    "str7 = \"i.love/?you\"\n",
    "print(re.split(\"\\W+\",str7))  #\\W,非数字字母下划线\n",
    "print(\" \".join(re.split(\"\\W+\",str7)))"
   ]
  },
  {
   "cell_type": "code",
   "execution_count": 22,
   "metadata": {},
   "outputs": [
    {
     "name": "stdout",
     "output_type": "stream",
     "text": "{'m', 'o', 's', 'y', 'u', 'i'}\nmosyui\n{1, 2, 3, 4, 5, 7}\n[1, 2, 3, 4, 5, 7]\n"
    }
   ],
   "source": [
    "# 6. 寻找字符串中唯一的元素\n",
    "str8 = \"imissyou\"\n",
    "print(set(str8))\n",
    "print(\"\".join(set(str8)))\n",
    "\n",
    "# 对列表进行筛查\n",
    "list2 = [2,4,3,1,2,7,5]\n",
    "print(set(list2))  #返回字典形式\n",
    "# 转换成list:\n",
    "print(list(set(list2)))"
   ]
  },
  {
   "cell_type": "code",
   "execution_count": 28,
   "metadata": {},
   "outputs": [
    {
     "name": "stdout",
     "output_type": "stream",
     "text": "hello worldhello worldhello world\n['i', 'love', 'you', 'i', 'love', 'you']\n['i', 'love', 'you', 'i', 'love', 'you']\n"
    }
   ],
   "source": [
    "# 7. 将元素进行重复\n",
    "# 乘法\n",
    "print(3 * str1)\n",
    "print(2 * list1)\n",
    "\n",
    "# 加法\n",
    "list3 =[\"i\", \"love\", \"you\"]\n",
    "for i in range(3):\n",
    "    element = list3[i]\n",
    "    list3.append(element)\n",
    "print(list3)"
   ]
  },
  {
   "cell_type": "code",
   "execution_count": 31,
   "metadata": {},
   "outputs": [
    {
     "name": "stdout",
     "output_type": "stream",
     "text": "[5.0, 7.5, 5.0, 2.5]\n[1, 2, 3, 4, 5, 6]\n"
    }
   ],
   "source": [
    "# 8. 基于列表的扩展\n",
    "list4 = [2,3,2,1]\n",
    "print([2.5 * x for x in list4])\n",
    "\n",
    "#列表展开，充分利用python语言的简洁性\n",
    "list5 = [[1,2,3],[4,5],[6]]\n",
    "print([i for k in list5 for i in k])"
   ]
  },
  {
   "cell_type": "code",
   "execution_count": 26,
   "metadata": {},
   "outputs": [
    {
     "name": "stdout",
     "output_type": "stream",
     "text": "[1, 2, 3, 4, 5, 2, 6, 1, 4, 5, 4, 5]\n"
    },
    {
     "data": {
      "text/plain": "[1, 2, 3, 4, 5, 2, 6, 1, 4, 5, 4, 5]"
     },
     "execution_count": 26,
     "metadata": {},
     "output_type": "execute_result"
    }
   ],
   "source": [
    "# 9. 将列表展开\n",
    "list6 = [[1,2,3],[4,5],2,[6],[1,4,5,[4,5]]]\n",
    "from iteration_utilities import deepflatten\n",
    "print(list(deepflatten(list6)))\n",
    "\n",
    "def flatten(string):\n",
    "    res = []\n",
    "    for i in string:\n",
    "        if isinstance(i,list):\n",
    "            res.extend(flatten(i))    #extend 是逐个添加，如extend(\"abc\"),则会在之后添上\"a\",\"b\",\"c\"\n",
    "        else:\n",
    "            res.append(i)   #append 是整体添加，必须要保证append的东西是可迭代的\n",
    "    return res\n",
    "# 列表属于可变对象,其append(),sort(),reverse()会在原处修改对象，不会有返回值，所以以上只能写return而不是print\n",
    "flatten(list6)\n"
   ]
  },
  {
   "cell_type": "code",
   "execution_count": 24,
   "metadata": {},
   "outputs": [
    {
     "name": "stdout",
     "output_type": "stream",
     "text": "[1, 2, 3]\nNone\nNone\n[1, 2, 3, 4, 4]\n"
    }
   ],
   "source": [
    "a = [1,2,3]\n",
    "print(a)\n",
    "print(a.append(4))\n",
    "b = a.append(4)\n",
    "print(b)\n",
    "print(a) # 从这里可以看出，append之后会返回none，但是已经修改了原始列表；所以函数如果append之后没有return会报错\n"
   ]
  },
  {
   "cell_type": "code",
   "execution_count": 1,
   "metadata": {},
   "outputs": [
    {
     "name": "stdout",
     "output_type": "stream",
     "text": "2 1\n1 2\n"
    }
   ],
   "source": [
    "# 10.二值交换\n",
    "a = 1\n",
    "b = 2\n",
    "a,b = b,a\n",
    "print(a,b)\n",
    "\n",
    "# 回复交换前的值\n",
    "c = a + b\n",
    "a = c - a\n",
    "b = c - b\n",
    "print(a,b)"
   ]
  },
  {
   "cell_type": "code",
   "execution_count": 41,
   "metadata": {},
   "outputs": [
    {
     "name": "stdout",
     "output_type": "stream",
     "text": "Counter({'o': 2, 'i': 1, 'l': 1, 'v': 1, 'e': 1, 'y': 1, 'u': 1})\n1\n[('o', 2), ('i', 1)]\n===============================\n{'i': 1, 'l': 1, 'o': 2, 'v': 1, 'e': 1, 'y': 1, 'u': 1}\n================================\no\n"
    }
   ],
   "source": [
    "# 11. 统计列表中元素出现频率\n",
    "# Counter，很方便的调用\n",
    "from collections import Counter\n",
    "list7 = ['i','l','o','v','e','y','o','u']\n",
    "count = Counter(list7)\n",
    "print(count)   #返回形式是字典\n",
    "print(count['i'])\n",
    "print(count.most_common(2))  # 返回最常见的两个\n",
    "print(\"===============================\")\n",
    "\n",
    "# 我自己的方法，从参数里创建字典\n",
    "def count(list):\n",
    "    res = dict.fromkeys(list,0)\n",
    "    for i in list:\n",
    "        res[i]+=1\n",
    "    print(res)\n",
    "count(list7)\n",
    "print(\"================================\")\n",
    "\n",
    "# 另外一种定义函数方式，返回最大值\n",
    "dict1 = {}\n",
    "for i in list7:\n",
    "    if i in dict1:\n",
    "        dict1[i] += 1\n",
    "    else:\n",
    "        dict1[i] = 1\n",
    "print(max(list7,key = lambda x: dict1[x]))  #max 返回最大值"
   ]
  },
  {
   "cell_type": "code",
   "execution_count": 42,
   "metadata": {},
   "outputs": [
    {
     "name": "stdout",
     "output_type": "stream",
     "text": "They contain the same elements\n"
    }
   ],
   "source": [
    "# 12. 判断字符串所含元素是否相同\n",
    "#无论字符串中元素顺序如何，只要包含相同的元素和数量，Counter就认为其是相同的\n",
    "from collections import Counter\n",
    "str9,str10 = \"abcd\",\"bcad\"\n",
    "cn_str9,  cn_str10 = Counter(str9),Counter(str10)\n",
    "if cn_str9 == cn_str10:\n",
    "    print(\"They contain the same elements\")"
   ]
  },
  {
   "cell_type": "code",
   "execution_count": 50,
   "metadata": {},
   "outputs": [
    {
     "name": "stdout",
     "output_type": "stream",
     "text": "<map object at 0x10fdb6250>\n[9, 6, 2, 4, 6, 4]\n[9, 6, 2, 4, 6, 4]\n"
    }
   ],
   "source": [
    "# 13. 将数字字符转化为字符串列表\n",
    "str11 = \"962464\"\n",
    "list8 = map(int,str11)\n",
    "print(list8)\n",
    "print(list(list8))\n",
    "\n",
    "print([int(i) for i in str11])"
   ]
  },
  {
   "cell_type": "code",
   "execution_count": 55,
   "metadata": {},
   "outputs": [
    {
     "name": "stdout",
     "output_type": "stream",
     "text": "This is not a list\nThe end of the programme\n======================\n[4]\nThe end of the programme\n"
    }
   ],
   "source": [
    "# 14. try-except-finally\n",
    "# 使用try-except可以帮助我们去捕获某些不可预知错误，然后输出提示。注意，如果需要程序无论是否出错，都要执行一些程序的化，需要利用finally来实现。\n",
    "c,d = 1,4\n",
    "try:\n",
    "    c.append(d)\n",
    "except AttributeError as e:\n",
    "    print(\"This is not a list\")\n",
    "finally:\n",
    "    print(\"The end of the programme\")\n",
    "print(\"======================\")\n",
    "\n",
    "c = []\n",
    "d = 4\n",
    "try:\n",
    "    c.append(d)\n",
    "except AttributeError as e:\n",
    "    print(\"This is not a list\")\n",
    "else:\n",
    "    print(c)\n",
    "finally:\n",
    "    print(\"The end of the programme\")"
   ]
  },
  {
   "cell_type": "code",
   "execution_count": 59,
   "metadata": {},
   "outputs": [
    {
     "name": "stdout",
     "output_type": "stream",
     "text": "0 i\n1 m\n2 i\n3 s\n4 s\n5  \n6 y\n7 o\n8 u\n"
    }
   ],
   "source": [
    "# 15. enumerate()获取索引\n",
    "# enumerate() 函数用于将一个可遍历的数据对象(列表，字符串)组合为一个索引序列。\n",
    "str12 = \"imiss you\"\n",
    "for i, j in enumerate(str12):\n",
    "    print(i,j)"
   ]
  },
  {
   "cell_type": "code",
   "execution_count": 60,
   "metadata": {},
   "outputs": [
    {
     "name": "stdout",
     "output_type": "stream",
     "text": "Total time: 0.008302927017211914 s\n"
    }
   ],
   "source": [
    "# 16. 代码执行消耗时间\n",
    "import time\n",
    "start = time.time()\n",
    "\n",
    "num = 10000\n",
    "for i in range(num):\n",
    "    num1 = num\n",
    "print(\"Total time:\",time.time()-start,\"s\")"
   ]
  },
  {
   "cell_type": "code",
   "execution_count": 68,
   "metadata": {},
   "outputs": [
    {
     "name": "stdout",
     "output_type": "stream",
     "text": "80\n96\n28\n"
    }
   ],
   "source": [
    "# 17. 检查对象的内存占用情况\n",
    "import sys\n",
    "list9 = [\"why not me\"]\n",
    "list10 = [\"why\",'not','me']\n",
    "num2 = 59\n",
    "print(sys.getsizeof(list9))\n",
    "print(sys.getsizeof(list10))\n",
    "print(sys.getsizeof(num2))"
   ]
  },
  {
   "cell_type": "code",
   "execution_count": 73,
   "metadata": {},
   "outputs": [
    {
     "name": "stdout",
     "output_type": "stream",
     "text": "{'me': 'ich', 'you': 'du', 'he': 'er', 'her': 'sie'}\n==========================\n{'me': 'ich', 'you': 'du', 'he': 'er', 'her': 'sie'}\n"
    }
   ],
   "source": [
    "# 18. 字典的合并\n",
    "dict1 = {\"me\":\"ich\", \"you\":\"du\"}\n",
    "dict2 = {\"he\":\"er\",'her':\"sie\"}\n",
    "dict1.update(dict2)\n",
    "print(dict1)\n",
    "print(\"==========================\")\n",
    "\n",
    "comb = {**dict1, **dict2}\n",
    "print(comb)"
   ]
  },
  {
   "cell_type": "code",
   "execution_count": 71,
   "metadata": {},
   "outputs": [
    {
     "name": "stdout",
     "output_type": "stream",
     "text": "['e', 'o']\n"
    }
   ],
   "source": [
    "# 19. 随机采样\n",
    "import random\n",
    "str13 = 'aeiou'\n",
    "num3 = 2\n",
    "print(random.sample(str13,num3))"
   ]
  },
  {
   "cell_type": "code",
   "execution_count": 74,
   "metadata": {},
   "outputs": [
    {
     "name": "stdout",
     "output_type": "stream",
     "text": "There exists redundant elements\n"
    }
   ],
   "source": [
    "# 20.检查唯一性\n",
    "str14 = \"thisisthefirsttime\"\n",
    "if len(str14)==len(set(str14)):\n",
    "    print(\"All elements are unique\")\n",
    "else:\n",
    "    print(\"There exists redundant elements\")"
   ]
  },
  {
   "cell_type": "code",
   "execution_count": null,
   "metadata": {},
   "outputs": [],
   "source": []
  }
 ]
}